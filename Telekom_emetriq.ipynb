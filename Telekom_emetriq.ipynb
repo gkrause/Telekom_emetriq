{
 "cells": [
  {
   "cell_type": "markdown",
   "metadata": {},
   "source": [
    "# Telekom/emetriq Data Challenge"
   ]
  },
  {
   "cell_type": "code",
   "execution_count": 1,
   "metadata": {},
   "outputs": [],
   "source": [
    "#Import der benötigten Pakete\n",
    "import pandas as pd \n",
    "import numpy as np\n",
    "import datetime\n",
    "from pandasql import sqldf\n",
    "import matplotlib.pyplot as plt\n",
    "\n",
    "pysqldf = lambda q: sqldf(q, globals())"
   ]
  },
  {
   "cell_type": "markdown",
   "metadata": {},
   "source": [
    "Einlesen der Daten mit panda:"
   ]
  },
  {
   "cell_type": "code",
   "execution_count": 2,
   "metadata": {},
   "outputs": [
    {
     "data": {
      "text/html": [
       "<div>\n",
       "<style scoped>\n",
       "    .dataframe tbody tr th:only-of-type {\n",
       "        vertical-align: middle;\n",
       "    }\n",
       "\n",
       "    .dataframe tbody tr th {\n",
       "        vertical-align: top;\n",
       "    }\n",
       "\n",
       "    .dataframe thead th {\n",
       "        text-align: right;\n",
       "    }\n",
       "</style>\n",
       "<table border=\"1\" class=\"dataframe\">\n",
       "  <thead>\n",
       "    <tr style=\"text-align: right;\">\n",
       "      <th></th>\n",
       "      <th>profile_id\\tis_man</th>\n",
       "    </tr>\n",
       "  </thead>\n",
       "  <tbody>\n",
       "    <tr>\n",
       "      <td>0</td>\n",
       "      <td>1339524189722010100020162000012966\\t1</td>\n",
       "    </tr>\n",
       "    <tr>\n",
       "      <td>1</td>\n",
       "      <td>1339524189722010100020162000012966\\t1</td>\n",
       "    </tr>\n",
       "    <tr>\n",
       "      <td>2</td>\n",
       "      <td>1339524189722010100020162000012966\\t1</td>\n",
       "    </tr>\n",
       "    <tr>\n",
       "      <td>3</td>\n",
       "      <td>1343739999827010100020010000012966\\t0</td>\n",
       "    </tr>\n",
       "    <tr>\n",
       "      <td>4</td>\n",
       "      <td>1348681828483010100022063000007393\\t0</td>\n",
       "    </tr>\n",
       "  </tbody>\n",
       "</table>\n",
       "</div>"
      ],
      "text/plain": [
       "                      profile_id\\tis_man\n",
       "0  1339524189722010100020162000012966\\t1\n",
       "1  1339524189722010100020162000012966\\t1\n",
       "2  1339524189722010100020162000012966\\t1\n",
       "3  1343739999827010100020010000012966\\t0\n",
       "4  1348681828483010100022063000007393\\t0"
      ]
     },
     "execution_count": 2,
     "metadata": {},
     "output_type": "execute_result"
    }
   ],
   "source": [
    "df_labels = pd.read_csv(\"C:\\\\Users\\gkrause\\Desktop\\python\\data\\labels.csv\")\n",
    "df_labels.head()"
   ]
  },
  {
   "cell_type": "code",
   "execution_count": 3,
   "metadata": {},
   "outputs": [
    {
     "data": {
      "text/html": [
       "<div>\n",
       "<style scoped>\n",
       "    .dataframe tbody tr th:only-of-type {\n",
       "        vertical-align: middle;\n",
       "    }\n",
       "\n",
       "    .dataframe tbody tr th {\n",
       "        vertical-align: top;\n",
       "    }\n",
       "\n",
       "    .dataframe thead th {\n",
       "        text-align: right;\n",
       "    }\n",
       "</style>\n",
       "<table border=\"1\" class=\"dataframe\">\n",
       "  <thead>\n",
       "    <tr style=\"text-align: right;\">\n",
       "      <th></th>\n",
       "      <th>profile_id</th>\n",
       "      <th>ua_lang</th>\n",
       "      <th>url</th>\n",
       "      <th>user_agent</th>\n",
       "      <th>timestamp</th>\n",
       "    </tr>\n",
       "  </thead>\n",
       "  <tbody>\n",
       "    <tr>\n",
       "      <td>0</td>\n",
       "      <td>1338307099035010250219044000006465</td>\n",
       "      <td>de</td>\n",
       "      <td>https://www.focus.de:80/gesundheit/news/verunr...</td>\n",
       "      <td>Mozilla/5.0 (Macintosh; Intel Mac OS X 10.6; r...</td>\n",
       "      <td>1534235537743</td>\n",
       "    </tr>\n",
       "    <tr>\n",
       "      <td>1</td>\n",
       "      <td>1339524189722010100020162000012966</td>\n",
       "      <td>de</td>\n",
       "      <td>https://immo.rheinpfalz.de:80/immobilien/baugr...</td>\n",
       "      <td>Mozilla/5.0 (Windows NT 6.1; Win64; x64; rv:61...</td>\n",
       "      <td>1534437594586</td>\n",
       "    </tr>\n",
       "    <tr>\n",
       "      <td>2</td>\n",
       "      <td>1339524189722010100020162000012966</td>\n",
       "      <td>de</td>\n",
       "      <td>https://immo.rheinpfalz.de:80/immobilien/baugr...</td>\n",
       "      <td>Mozilla/5.0 (Windows NT 6.1; Win64; x64; rv:61...</td>\n",
       "      <td>1534437594586</td>\n",
       "    </tr>\n",
       "    <tr>\n",
       "      <td>3</td>\n",
       "      <td>1339524189722010100020162000012966</td>\n",
       "      <td>de</td>\n",
       "      <td>https://www.tvnow.de:80/rtl/denn-sie-wissen-ni...</td>\n",
       "      <td>Mozilla/5.0 (Windows NT 6.1; Win64; x64; rv:61...</td>\n",
       "      <td>1534660973598</td>\n",
       "    </tr>\n",
       "    <tr>\n",
       "      <td>4</td>\n",
       "      <td>1339524189722010100020162000012966</td>\n",
       "      <td>de</td>\n",
       "      <td>https://www.tvnow.de:80/rtl/guten-morgen-deuts...</td>\n",
       "      <td>Mozilla/5.0 (Windows NT 6.1; Win64; x64; rv:61...</td>\n",
       "      <td>1534188943263</td>\n",
       "    </tr>\n",
       "  </tbody>\n",
       "</table>\n",
       "</div>"
      ],
      "text/plain": [
       "                           profile_id ua_lang  \\\n",
       "0  1338307099035010250219044000006465      de   \n",
       "1  1339524189722010100020162000012966      de   \n",
       "2  1339524189722010100020162000012966      de   \n",
       "3  1339524189722010100020162000012966      de   \n",
       "4  1339524189722010100020162000012966      de   \n",
       "\n",
       "                                                 url  \\\n",
       "0  https://www.focus.de:80/gesundheit/news/verunr...   \n",
       "1  https://immo.rheinpfalz.de:80/immobilien/baugr...   \n",
       "2  https://immo.rheinpfalz.de:80/immobilien/baugr...   \n",
       "3  https://www.tvnow.de:80/rtl/denn-sie-wissen-ni...   \n",
       "4  https://www.tvnow.de:80/rtl/guten-morgen-deuts...   \n",
       "\n",
       "                                          user_agent      timestamp  \n",
       "0  Mozilla/5.0 (Macintosh; Intel Mac OS X 10.6; r...  1534235537743  \n",
       "1  Mozilla/5.0 (Windows NT 6.1; Win64; x64; rv:61...  1534437594586  \n",
       "2  Mozilla/5.0 (Windows NT 6.1; Win64; x64; rv:61...  1534437594586  \n",
       "3  Mozilla/5.0 (Windows NT 6.1; Win64; x64; rv:61...  1534660973598  \n",
       "4  Mozilla/5.0 (Windows NT 6.1; Win64; x64; rv:61...  1534188943263  "
      ]
     },
     "execution_count": 3,
     "metadata": {},
     "output_type": "execute_result"
    }
   ],
   "source": [
    "df_labels = pd.read_csv(\"C:\\\\Users\\gkrause\\Desktop\\python\\data\\labels.csv\" ,sep = '\\t')\n",
    "df_impressions = pd.read_csv(\"C:\\\\Users\\gkrause\\Desktop\\python\\data\\page_impressions.csv\" ,sep = '\\t')\n",
    "\n",
    "#df_labels.head()\n",
    "df_impressions.head()"
   ]
  },
  {
   "cell_type": "markdown",
   "metadata": {},
   "source": [
    "Welches Format besitzt das TIMESTAMP-Attribut?"
   ]
  },
  {
   "cell_type": "code",
   "execution_count": null,
   "metadata": {},
   "outputs": [],
   "source": [
    "#type(df_impressions.timestamp[3])\n",
    "len(str(df_impressions.timestamp[3]))"
   ]
  },
  {
   "cell_type": "markdown",
   "metadata": {},
   "source": [
    "Dank Internetsuche herausgefunden: Millisekunden seit dem 01.01.1970 (meistens von UNIX)"
   ]
  },
  {
   "cell_type": "code",
   "execution_count": null,
   "metadata": {},
   "outputs": [],
   "source": [
    "timestamp = df_impressions.timestamp[3]\n",
    "timestamp_new = df_impressions.timestamp[3]-1000\n",
    "\n",
    "zeit_alt = datetime.datetime.fromtimestamp(int(timestamp)/1000)\n",
    "zeit_neu = datetime.datetime.fromtimestamp(int(timestamp_new)/1000)\n",
    "print(\"Die alte Zeit:\")\n",
    "print(zeit_alt.strftime(\"%Y-%m-%d %H:%M:%S\")) \n",
    "print(\"Die neue Zeit:\")\n",
    "print(zeit_neu.strftime(\"%Y-%m-%d %H:%M:%S\"))"
   ]
  },
  {
   "cell_type": "code",
   "execution_count": null,
   "metadata": {},
   "outputs": [],
   "source": [
    "df_labels.info()"
   ]
  },
  {
   "cell_type": "markdown",
   "metadata": {},
   "source": [
    "Beispiel für ein Duplikat"
   ]
  },
  {
   "cell_type": "code",
   "execution_count": null,
   "metadata": {},
   "outputs": [],
   "source": [
    "#df_labels.groupby(['profile_id','is_man']).size()\n",
    "df_labels[df_labels['profile_id']=='1348681828483010100022063000007393']"
   ]
  },
  {
   "cell_type": "markdown",
   "metadata": {},
   "source": [
    "Duplikate löschen"
   ]
  },
  {
   "cell_type": "code",
   "execution_count": 4,
   "metadata": {},
   "outputs": [],
   "source": [
    "df_labels_dist=df_labels.drop_duplicates(['profile_id','is_man'], keep='first')\n",
    "#df_labels_dist[df_labels_dist['profile_id']=='1348681828483010100022063000007393']\n",
    "#df_labels_dist.info()"
   ]
  },
  {
   "cell_type": "markdown",
   "metadata": {},
   "source": [
    "Schwierigkeit beim Idenifizieren der Duplikate aufgrund der TIMESTAMP-Range, deswegen Rank-Bildung."
   ]
  },
  {
   "cell_type": "code",
   "execution_count": 5,
   "metadata": {},
   "outputs": [],
   "source": [
    "#Sortieren von Datensatz\n",
    "df_impressions_sort=df_impressions.sort_values(by=['profile_id','url','timestamp'])\n",
    "\n",
    "a = \"\"\"\n",
    "    SELECT\n",
    "         profile_id, ua_lang, url, user_agent, timestamp, \n",
    "             row_number() over(partition by profile_id, url order by  timestamp asc ) as rank,\n",
    "             case when lead(timestamp) over(partition by profile_id, url) <> 'NaN' then\n",
    "             (lead(timestamp) over(partition by profile_id, url)  - timestamp) end as diff\n",
    "     FROM\n",
    "        df_impressions_sort \n",
    "     ;\"\"\"\n",
    "           \n",
    "df_sql_rank = pysqldf(a)\n",
    "#print(df_sql_rank[['profile_id','url','timestamp','rank', 'time_lead']])"
   ]
  },
  {
   "cell_type": "code",
   "execution_count": null,
   "metadata": {},
   "outputs": [],
   "source": [
    "#df_sql_rank[df_sql_rank['rank']==4]\n",
    "#df_sql_rank[df_sql_rank['profile_id']=='1349981668727010100020153000012141']\n",
    "#df_sql_rank[(df_sql_rank['diff'] < 1000) & (df_sql_rank['diff'] > 1)]"
   ]
  },
  {
   "cell_type": "markdown",
   "metadata": {},
   "source": [
    "Nimm alle Zeilen mit Rank = 1 und join diese Tabelle mit allen Zeilen die Rank >1 besitzen."
   ]
  },
  {
   "cell_type": "code",
   "execution_count": 6,
   "metadata": {},
   "outputs": [],
   "source": [
    "r1 = \"\"\"\n",
    "     SELECT\n",
    "         profile_id, ua_lang, url, user_agent, timestamp\n",
    "     FROM\n",
    "        df_sql_rank\n",
    "    where rank = 1\n",
    "     ;\"\"\"\n",
    "           \n",
    "df_sql_rank1 = pysqldf(r1)\n",
    "#print(df_sql_rank1)\n",
    "\n",
    "r2 = \"\"\"\n",
    "     SELECT\n",
    "         profile_id, ua_lang, url, user_agent, timestamp\n",
    "     FROM\n",
    "        df_sql_rank\n",
    "    where rank > 1\n",
    "     ;\"\"\"\n",
    "           \n",
    "df_sql_rank2 = pysqldf(r2)\n",
    "#print(df_sql_rank2)\n",
    "\n",
    "q = \"\"\"SELECT\n",
    "       distinct   m.profile_id, m.ua_lang, m.url, m.user_agent, m.timestamp as timestamp_r1, b.timestamp as timestamp_r2,  \n",
    "           case when ( m.timestamp -b.timestamp) between -1000 and 1000 then 1 else 0 end as diff\n",
    "     FROM\n",
    "        df_sql_rank1 m\n",
    "     INNER JOIN\n",
    "        df_sql_rank2 b\n",
    "           ON m.profile_id = b.profile_id and m.url= b.url\n",
    "           order by 1,3;\"\"\"\n",
    "           \n",
    "joined = pysqldf(q)\n",
    "#print(joined)"
   ]
  },
  {
   "cell_type": "markdown",
   "metadata": {},
   "source": [
    "Nur die Zeilen nehmen, deren Timestamp-Differenz unter 1000 ist, TIMESTAMP - Attribut aus r2 nehmen. "
   ]
  },
  {
   "cell_type": "code",
   "execution_count": 7,
   "metadata": {},
   "outputs": [],
   "source": [
    "b = \"\"\"SELECT\n",
    "       distinct  profile_id, ua_lang, url, user_agent, timestamp_r2 as timestamp\n",
    "     FROM\n",
    "        joined \n",
    "     WHERE diff = 0;\n",
    "    \"\"\"\n",
    "           \n",
    "df_diff = pysqldf(b)\n",
    "#print(df_diff)\n",
    "\n",
    "#Append der Tabellen\n",
    "df_impressions_dst=df_sql_rank1.append(df_diff).sort_values(by=['profile_id','url','timestamp'])"
   ]
  },
  {
   "cell_type": "markdown",
   "metadata": {},
   "source": [
    "Überprüfung der Tabelle"
   ]
  },
  {
   "cell_type": "code",
   "execution_count": 8,
   "metadata": {},
   "outputs": [
    {
     "data": {
      "text/html": [
       "<div>\n",
       "<style scoped>\n",
       "    .dataframe tbody tr th:only-of-type {\n",
       "        vertical-align: middle;\n",
       "    }\n",
       "\n",
       "    .dataframe tbody tr th {\n",
       "        vertical-align: top;\n",
       "    }\n",
       "\n",
       "    .dataframe thead th {\n",
       "        text-align: right;\n",
       "    }\n",
       "</style>\n",
       "<table border=\"1\" class=\"dataframe\">\n",
       "  <thead>\n",
       "    <tr style=\"text-align: right;\">\n",
       "      <th></th>\n",
       "      <th>profile_id</th>\n",
       "      <th>ua_lang</th>\n",
       "      <th>url</th>\n",
       "      <th>user_agent</th>\n",
       "      <th>timestamp</th>\n",
       "    </tr>\n",
       "  </thead>\n",
       "  <tbody>\n",
       "    <tr>\n",
       "      <td>17</td>\n",
       "      <td>1348681828483010100022063000007393</td>\n",
       "      <td>de</td>\n",
       "      <td>https://www.t-online.de:80/?ref=overscroll</td>\n",
       "      <td>Mozilla/5.0 (Windows NT 6.0; rv:52.0) Gecko/20...</td>\n",
       "      <td>1534797562126</td>\n",
       "    </tr>\n",
       "    <tr>\n",
       "      <td>18</td>\n",
       "      <td>1348681828483010100022063000007393</td>\n",
       "      <td>de</td>\n",
       "      <td>https://www.t-online.de:80/?utm_campaign=tonli...</td>\n",
       "      <td>Mozilla/5.0 (Windows NT 6.0; rv:52.0) Gecko/20...</td>\n",
       "      <td>1534022893143</td>\n",
       "    </tr>\n",
       "    <tr>\n",
       "      <td>3</td>\n",
       "      <td>1348681828483010100022063000007393</td>\n",
       "      <td>de</td>\n",
       "      <td>https://www.t-online.de:80/?utm_campaign=tonli...</td>\n",
       "      <td>Mozilla/5.0 (Windows NT 6.0; rv:52.0) Gecko/20...</td>\n",
       "      <td>1534060313847</td>\n",
       "    </tr>\n",
       "    <tr>\n",
       "      <td>4</td>\n",
       "      <td>1348681828483010100022063000007393</td>\n",
       "      <td>de</td>\n",
       "      <td>https://www.t-online.de:80/?utm_campaign=tonli...</td>\n",
       "      <td>Mozilla/5.0 (Windows NT 6.0; rv:52.0) Gecko/20...</td>\n",
       "      <td>1534363795108</td>\n",
       "    </tr>\n",
       "    <tr>\n",
       "      <td>5</td>\n",
       "      <td>1348681828483010100022063000007393</td>\n",
       "      <td>de</td>\n",
       "      <td>https://www.t-online.de:80/?utm_campaign=tonli...</td>\n",
       "      <td>Mozilla/5.0 (Windows NT 6.0; rv:52.0) Gecko/20...</td>\n",
       "      <td>1534435676682</td>\n",
       "    </tr>\n",
       "    <tr>\n",
       "      <td>6</td>\n",
       "      <td>1348681828483010100022063000007393</td>\n",
       "      <td>de</td>\n",
       "      <td>https://www.t-online.de:80/?utm_campaign=tonli...</td>\n",
       "      <td>Mozilla/5.0 (Windows NT 6.0; rv:52.0) Gecko/20...</td>\n",
       "      <td>1534584888993</td>\n",
       "    </tr>\n",
       "    <tr>\n",
       "      <td>7</td>\n",
       "      <td>1348681828483010100022063000007393</td>\n",
       "      <td>de</td>\n",
       "      <td>https://www.t-online.de:80/?utm_campaign=tonli...</td>\n",
       "      <td>Mozilla/5.0 (Windows NT 6.0; rv:52.0) Gecko/20...</td>\n",
       "      <td>1534709701259</td>\n",
       "    </tr>\n",
       "    <tr>\n",
       "      <td>8</td>\n",
       "      <td>1348681828483010100022063000007393</td>\n",
       "      <td>de</td>\n",
       "      <td>https://www.t-online.de:80/?utm_campaign=tonli...</td>\n",
       "      <td>Mozilla/5.0 (Windows NT 6.0; rv:52.0) Gecko/20...</td>\n",
       "      <td>1534883677308</td>\n",
       "    </tr>\n",
       "    <tr>\n",
       "      <td>19</td>\n",
       "      <td>1348681828483010100022063000007393</td>\n",
       "      <td>de</td>\n",
       "      <td>https://www.t-online.de:80/sport/live-ticker/f...</td>\n",
       "      <td>Mozilla/5.0 (Windows NT 6.0; rv:52.0) Gecko/20...</td>\n",
       "      <td>1534536050228</td>\n",
       "    </tr>\n",
       "    <tr>\n",
       "      <td>20</td>\n",
       "      <td>1348681828483010100022063000007393</td>\n",
       "      <td>de</td>\n",
       "      <td>https://www.t-online.de:80/tv/webclips/id_8427...</td>\n",
       "      <td>Mozilla/5.0 (Windows NT 6.0; rv:52.0) Gecko/20...</td>\n",
       "      <td>1534190415078</td>\n",
       "    </tr>\n",
       "    <tr>\n",
       "      <td>21</td>\n",
       "      <td>1348681828483010100022063000007393</td>\n",
       "      <td>de</td>\n",
       "      <td>https://www.t-online.de:80/unterhaltung/partne...</td>\n",
       "      <td>Mozilla/5.0 (Windows NT 6.0; rv:52.0) Gecko/20...</td>\n",
       "      <td>1534252220853</td>\n",
       "    </tr>\n",
       "  </tbody>\n",
       "</table>\n",
       "</div>"
      ],
      "text/plain": [
       "                            profile_id ua_lang  \\\n",
       "17  1348681828483010100022063000007393      de   \n",
       "18  1348681828483010100022063000007393      de   \n",
       "3   1348681828483010100022063000007393      de   \n",
       "4   1348681828483010100022063000007393      de   \n",
       "5   1348681828483010100022063000007393      de   \n",
       "6   1348681828483010100022063000007393      de   \n",
       "7   1348681828483010100022063000007393      de   \n",
       "8   1348681828483010100022063000007393      de   \n",
       "19  1348681828483010100022063000007393      de   \n",
       "20  1348681828483010100022063000007393      de   \n",
       "21  1348681828483010100022063000007393      de   \n",
       "\n",
       "                                                  url  \\\n",
       "17         https://www.t-online.de:80/?ref=overscroll   \n",
       "18  https://www.t-online.de:80/?utm_campaign=tonli...   \n",
       "3   https://www.t-online.de:80/?utm_campaign=tonli...   \n",
       "4   https://www.t-online.de:80/?utm_campaign=tonli...   \n",
       "5   https://www.t-online.de:80/?utm_campaign=tonli...   \n",
       "6   https://www.t-online.de:80/?utm_campaign=tonli...   \n",
       "7   https://www.t-online.de:80/?utm_campaign=tonli...   \n",
       "8   https://www.t-online.de:80/?utm_campaign=tonli...   \n",
       "19  https://www.t-online.de:80/sport/live-ticker/f...   \n",
       "20  https://www.t-online.de:80/tv/webclips/id_8427...   \n",
       "21  https://www.t-online.de:80/unterhaltung/partne...   \n",
       "\n",
       "                                           user_agent      timestamp  \n",
       "17  Mozilla/5.0 (Windows NT 6.0; rv:52.0) Gecko/20...  1534797562126  \n",
       "18  Mozilla/5.0 (Windows NT 6.0; rv:52.0) Gecko/20...  1534022893143  \n",
       "3   Mozilla/5.0 (Windows NT 6.0; rv:52.0) Gecko/20...  1534060313847  \n",
       "4   Mozilla/5.0 (Windows NT 6.0; rv:52.0) Gecko/20...  1534363795108  \n",
       "5   Mozilla/5.0 (Windows NT 6.0; rv:52.0) Gecko/20...  1534435676682  \n",
       "6   Mozilla/5.0 (Windows NT 6.0; rv:52.0) Gecko/20...  1534584888993  \n",
       "7   Mozilla/5.0 (Windows NT 6.0; rv:52.0) Gecko/20...  1534709701259  \n",
       "8   Mozilla/5.0 (Windows NT 6.0; rv:52.0) Gecko/20...  1534883677308  \n",
       "19  Mozilla/5.0 (Windows NT 6.0; rv:52.0) Gecko/20...  1534536050228  \n",
       "20  Mozilla/5.0 (Windows NT 6.0; rv:52.0) Gecko/20...  1534190415078  \n",
       "21  Mozilla/5.0 (Windows NT 6.0; rv:52.0) Gecko/20...  1534252220853  "
      ]
     },
     "execution_count": 8,
     "metadata": {},
     "output_type": "execute_result"
    }
   ],
   "source": [
    "df_impressions_dst[df_impressions_dst['profile_id']=='1348681828483010100022063000007393']\n",
    "#df_impressions_dst.info()"
   ]
  },
  {
   "cell_type": "markdown",
   "metadata": {},
   "source": [
    "Als csv-Datei speichern"
   ]
  },
  {
   "cell_type": "code",
   "execution_count": null,
   "metadata": {},
   "outputs": [],
   "source": [
    "df_labels_dist.to_csv(\"C:\\\\Users\\gkrause\\Desktop\\python\\data\\labels_final.csv\" ,sep = '\\t')\n",
    "df_impressions_dst.to_csv(\"C:\\\\Users\\gkrause\\Desktop\\python\\data\\impressions_final.csv\" ,sep = '\\t')"
   ]
  },
  {
   "cell_type": "markdown",
   "metadata": {},
   "source": [
    "Vielleicht zu komplex gedacht?"
   ]
  },
  {
   "cell_type": "code",
   "execution_count": null,
   "metadata": {},
   "outputs": [],
   "source": [
    "#df_test=df_impressions_sort.drop_duplicates(['profile_id','url','timestamp'], keep='first')\n",
    "#df_test.info()"
   ]
  },
  {
   "cell_type": "markdown",
   "metadata": {},
   "source": [
    "Task 2: page_impressions und labels mittels inner Join zusammenführen."
   ]
  },
  {
   "cell_type": "code",
   "execution_count": 9,
   "metadata": {},
   "outputs": [
    {
     "name": "stdout",
     "output_type": "stream",
     "text": [
      "<class 'pandas.core.frame.DataFrame'>\n",
      "Int64Index: 8577 entries, 0 to 8576\n",
      "Data columns (total 6 columns):\n",
      "profile_id    8577 non-null object\n",
      "ua_lang       8577 non-null object\n",
      "url           8577 non-null object\n",
      "user_agent    8577 non-null object\n",
      "timestamp     8577 non-null int64\n",
      "is_man        8577 non-null int64\n",
      "dtypes: int64(2), object(4)\n",
      "memory usage: 469.1+ KB\n"
     ]
    }
   ],
   "source": [
    "df_ml=df_impressions_dst.merge(df_labels_dist, on='profile_id', how='inner')\n",
    "df_ml.info()\n"
   ]
  },
  {
   "cell_type": "code",
   "execution_count": 11,
   "metadata": {},
   "outputs": [
    {
     "data": {
      "text/plain": [
       "(array([589.,   0.,   0.,   0.,   0.,   0.,   0.,   0.,   0., 131.]),\n",
       " array([0. , 0.1, 0.2, 0.3, 0.4, 0.5, 0.6, 0.7, 0.8, 0.9, 1. ]),\n",
       " <a list of 10 Patch objects>)"
      ]
     },
     "execution_count": 11,
     "metadata": {},
     "output_type": "execute_result"
    },
    {
     "data": {
      "image/png": "[encoded data removed]",
      "text/plain": [
       "<Figure size 432x288 with 1 Axes>"
      ]
     },
     "metadata": {
      "needs_background": "light"
     },
     "output_type": "display_data"
    }
   ],
   "source": [
    "df_ml['geschlecht']  = df_ml['is_man'].apply(lambda x: 'W' if (x == 0) else 'M')\n",
    "df_telekom=df_ml[df_ml['url'].str.contains('www.t-online.de')]\n",
    "df_telekom_hist=df_telekom.drop_duplicates(['profile_id','is_man'], keep='first')\n",
    "\n",
    "plt.hist(df_telekom_hist['geschlecht'], color = 'blue', edgecolor = 'black')"
   ]
  },
  {
   "cell_type": "code",
   "execution_count": null,
   "metadata": {},
   "outputs": [],
   "source": []
  },
  {
   "cell_type": "code",
   "execution_count": null,
   "metadata": {},
   "outputs": [],
   "source": []
  }
 ],
 "metadata": {
  "kernelspec": {
   "display_name": "Python 3",
   "language": "python",
   "name": "python3"
  },
  "language_info": {
   "codemirror_mode": {
    "name": "ipython",
    "version": 3
   },
   "file_extension": ".py",
   "mimetype": "text/x-python",
   "name": "python",
   "nbconvert_exporter": "python",
   "pygments_lexer": "ipython3",
   "version": "3.7.4"
  }
 },
 "nbformat": 4,
 "nbformat_minor": 2
}
